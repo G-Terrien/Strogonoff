{
 "cells": [
  {
   "cell_type": "markdown",
   "id": "84863746",
   "metadata": {},
   "source": [
    "# Strogonoff"
   ]
  },
  {
   "cell_type": "code",
   "execution_count": null,
   "id": "2777a9b9",
   "metadata": {},
   "outputs": [],
   "source": [
    "Préambule : En Russie, une ancienne unité de mesure était la verste. On a 1 verste = 1067 mètres."
   ]
  },
  {
   "cell_type": "raw",
   "id": "13e1fdf6",
   "metadata": {},
   "source": [
    "Michel Strogonoff était veuf mais il était beau. Pour d’obscures raisons, il décida de partir à l'aventure, sans un kopek\n",
    "en poche, à travers les étendues infinies de la Sibérie.\n",
    "\n",
    "Las, à peine avait-il parcouru une verste qu'il rencontra un ermite qui lui dit comme ça :\n",
    "    - Michel Strogonoff, donne-moi un rouble ou tu t'en repentiras.\n",
    "    - Mais, mon pauvre ermite, je suis trop pauvre, je ne peux pas te donner un rouble.\n",
    "    - Puisque c'est comme ça, répliqua l'ermite, c'est moi qui vais te donner un rouble ! Tiens !\n",
    "Michel Strogonoff était un peu surpris, mais content, et il reprit sa route, avec un rouble dans la poche.\n",
    "\n",
    "Une verste plus loin, nouvel ermite, même tableau :\n",
    "    - Michel Strogonoff, donne-moi deux roubles ou tu t'en repentiras.\n",
    "    - Mais, mon pauvre ermite, je suis trop pauvre, je ne peux pas te donner deux roubles.\n",
    "    - Puisque c'est comme ça, répliqua l'ermite, c'est moi qui vais te donner deux roubles ! Tiens !\n",
    "Michel Strogonoff était toujours un peu surpris, mais de plus en plus content, et il reprit sa route avec maintenant trois\n",
    "roubles en poche.\n",
    "\n",
    "Et, à la fin de la troisième verste, ça recommence avec un troisième ermite :\n",
    "    - Michel Strogonoff, donne-moi trois roubles ou tu t'en repentiras »\n",
    "    - Tiens, mon pauvre ermite je me réjouis de pouvoir soulager ta misère !\n",
    "Et Michel Strogonoff lui donna ses trois roubles et reprit sa route, la bourse vide, à la fois surpris et content, car un\n",
    "rien l'étonnait et c'était un heureux caractère.\n",
    "\n",
    "Et ça continue comme ça, à la fin de la n-ième verste, un ermite lui demande n roubles. Si Michel Strogonoff les\n",
    "possède, il les lui donne, sinon c'est l'ermite qui lui donne n roubles.\n",
    "\n",
    "On note, pour tout entier n , Sn le nombre de roubles que Michel Strogonoff a en sa possession après avoir parcouru\n",
    "n verstes et rencontré le n-ième ermite."
   ]
  },
  {
   "cell_type": "markdown",
   "id": "85e326e6",
   "metadata": {},
   "source": [
    "## Ecrire un algorithme qui demande en entrée un entier n et affiche en sortie Sn."
   ]
  },
  {
   "cell_type": "code",
   "execution_count": 2,
   "id": "c941acf8",
   "metadata": {},
   "outputs": [
    {
     "name": "stdout",
     "output_type": "stream",
     "text": [
      "n=2022\n",
      "2651\n"
     ]
    }
   ],
   "source": [
    "s=0\n",
    "n=int(input(\"n=\"))\n",
    "for i in range(1,n+1):\n",
    "    if(s<i):\n",
    "        s=s+i\n",
    "    else:\n",
    "        s=s-i\n",
    "print(s)"
   ]
  },
  {
   "cell_type": "markdown",
   "id": "3e30a66e",
   "metadata": {},
   "source": [
    "Quelle somme Michel Strogonoff a-t-il en sa possession après avoir parcouru 2022 verstes ?"
   ]
  },
  {
   "cell_type": "markdown",
   "id": "654b87f0",
   "metadata": {},
   "source": [
    "## Ecrire un algorithme qui affiche après quelle distance parcourue Michel Strogonoff aura exactement 2022 roubles en sa possession."
   ]
  },
  {
   "cell_type": "code",
   "execution_count": 3,
   "id": "4c5789bc",
   "metadata": {},
   "outputs": [
    {
     "name": "stdout",
     "output_type": "stream",
     "text": [
      "5796\n",
      "2894\n",
      "8\n"
     ]
    }
   ],
   "source": [
    "s=0\n",
    "i=0\n",
    "while s!=2022:\n",
    "    \n",
    "print(i, \"verstes parcourus pour avoir 2022 roubles\")"
   ]
  },
  {
   "cell_type": "markdown",
   "id": "ded2d106",
   "metadata": {},
   "source": [
    "## Modifier l'algorithme pour qu'il affiche en plus combien d'ermites Michel Strogonoff a pu payer."
   ]
  },
  {
   "cell_type": "code",
   "execution_count": null,
   "id": "93cb6649",
   "metadata": {},
   "outputs": [],
   "source": [
    "#à compléter"
   ]
  },
  {
   "cell_type": "markdown",
   "id": "b6307c03",
   "metadata": {},
   "source": [
    "## Modifier l'algorithme pour qu'il affiche en plus quelle distance Michel Strogonoff a parcouru la bourse vide."
   ]
  },
  {
   "cell_type": "code",
   "execution_count": 4,
   "id": "050d2695",
   "metadata": {},
   "outputs": [
    {
     "name": "stdout",
     "output_type": "stream",
     "text": [
      "5796  verstes parcourus pour avoir 2022 roubles\n",
      "2894  ermites payés\n",
      "8  verstes avec 0 roubles en poche\n"
     ]
    }
   ],
   "source": [
    "#à compléter"
   ]
  },
  {
   "cell_type": "code",
   "execution_count": 5,
   "id": "3fb7e219",
   "metadata": {},
   "outputs": [
    {
     "data": {
      "text/html": [
       "<details>\n",
       "<summary>Click to view session information</summary>\n",
       "<pre>\n",
       "-----\n",
       "session_info        1.0.0\n",
       "-----\n",
       "</pre>\n",
       "<details>\n",
       "<summary>Click to view modules imported as dependencies</summary>\n",
       "<pre>\n",
       "asttokens                   NA\n",
       "backcall                    0.2.0\n",
       "colorama                    0.4.4\n",
       "cython_runtime              NA\n",
       "dateutil                    2.8.2\n",
       "debugpy                     1.5.1\n",
       "decorator                   5.1.1\n",
       "entrypoints                 0.4\n",
       "executing                   0.8.3\n",
       "ipykernel                   6.9.1\n",
       "ipython_genutils            0.2.0\n",
       "jedi                        0.18.1\n",
       "jupyter_server              1.13.5\n",
       "mpl_toolkits                NA\n",
       "nt                          NA\n",
       "ntsecuritycon               NA\n",
       "packaging                   21.3\n",
       "parso                       0.8.3\n",
       "pickleshare                 0.7.5\n",
       "pkg_resources               NA\n",
       "prompt_toolkit              3.0.28\n",
       "pure_eval                   0.2.2\n",
       "pydev_ipython               NA\n",
       "pydevconsole                NA\n",
       "pydevd                      2.6.0\n",
       "pydevd_concurrency_analyser NA\n",
       "pydevd_file_utils           NA\n",
       "pydevd_plugins              NA\n",
       "pydevd_tracing              NA\n",
       "pyexpat                     NA\n",
       "pygments                    2.11.2\n",
       "pythoncom                   NA\n",
       "pywin32_bootstrap           NA\n",
       "pywin32_system32            NA\n",
       "pywintypes                  NA\n",
       "six                         1.16.0\n",
       "stack_data                  0.2.0\n",
       "tornado                     6.1\n",
       "traitlets                   5.1.1\n",
       "wcwidth                     0.2.5\n",
       "win32api                    NA\n",
       "win32com                    NA\n",
       "win32security               NA\n",
       "zmq                         22.3.0\n",
       "</pre>\n",
       "</details> <!-- seems like this ends pre, so might as well be explicit -->\n",
       "<pre>\n",
       "-----\n",
       "IPython             8.1.0\n",
       "jupyter_client      7.1.2\n",
       "jupyter_core        4.9.2\n",
       "jupyterlab          3.2.9\n",
       "notebook            6.4.8\n",
       "-----\n",
       "Python 3.9.6 (tags/v3.9.6:db3ff76, Jun 28 2021, 15:26:21) [MSC v.1929 64 bit (AMD64)]\n",
       "Windows-10-10.0.19043-SP0\n",
       "-----\n",
       "Session information updated at 2022-03-15 17:51\n",
       "</pre>\n",
       "</details>"
      ],
      "text/plain": [
       "<IPython.core.display.HTML object>"
      ]
     },
     "execution_count": 5,
     "metadata": {},
     "output_type": "execute_result"
    }
   ],
   "source": [
    "import session_info\n",
    "session_info.show()"
   ]
  },
  {
   "cell_type": "code",
   "execution_count": null,
   "id": "99d3beb0",
   "metadata": {},
   "outputs": [],
   "source": []
  }
 ],
 "metadata": {
  "kernelspec": {
   "display_name": "Python 3 (ipykernel)",
   "language": "python",
   "name": "python3"
  },
  "language_info": {
   "codemirror_mode": {
    "name": "ipython",
    "version": 3
   },
   "file_extension": ".py",
   "mimetype": "text/x-python",
   "name": "python",
   "nbconvert_exporter": "python",
   "pygments_lexer": "ipython3",
   "version": "3.9.6"
  }
 },
 "nbformat": 4,
 "nbformat_minor": 5
}
