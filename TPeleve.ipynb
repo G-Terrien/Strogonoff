{
 "cells": [
  {
   "cell_type": "markdown",
   "id": "42dd3428",
   "metadata": {},
   "source": [
    "# Strogonoff"
   ]
  },
  {
   "cell_type": "code",
   "execution_count": null,
   "id": "96742549",
   "metadata": {},
   "outputs": [],
   "source": [
    "Préambule : En Russie, une ancienne unité de mesure était la verste. On a 1 verste = 1067 mètres."
   ]
  },
  {
   "cell_type": "raw",
   "id": "7a2e7a8a",
   "metadata": {},
   "source": [
    "Michel Strogonoff était veuf mais il était beau. Pour d’obscures raisons, il décida de partir à l'aventure, sans un kopek\n",
    "en poche, à travers les étendues infinies de la Sibérie.\n",
    "\n",
    "Las, à peine avait-il parcouru une verste qu'il rencontra un ermite qui lui dit comme ça :\n",
    "    - Michel Strogonoff, donne-moi un rouble ou tu t'en repentiras.\n",
    "    - Mais, mon pauvre ermite, je suis trop pauvre, je ne peux pas te donner un rouble.\n",
    "    - Puisque c'est comme ça, répliqua l'ermite, c'est moi qui vais te donner un rouble ! Tiens !\n",
    "Michel Strogonoff était un peu surpris, mais content, et il reprit sa route, avec un rouble dans la poche.\n",
    "\n",
    "Une verste plus loin, nouvel ermite, même tableau :\n",
    "    - Michel Strogonoff, donne-moi deux roubles ou tu t'en repentiras.\n",
    "    - Mais, mon pauvre ermite, je suis trop pauvre, je ne peux pas te donner deux roubles.\n",
    "    - Puisque c'est comme ça, répliqua l'ermite, c'est moi qui vais te donner deux roubles ! Tiens !\n",
    "Michel Strogonoff était toujours un peu surpris, mais de plus en plus content, et il reprit sa route avec maintenant trois\n",
    "roubles en poche.\n",
    "\n",
    "Et, à la fin de la troisième verste, ça recommence avec un troisième ermite :\n",
    "    - Michel Strogonoff, donne-moi trois roubles ou tu t'en repentiras »\n",
    "    - Tiens, mon pauvre ermite je me réjouis de pouvoir soulager ta misère !\n",
    "Et Michel Strogonoff lui donna ses trois roubles et reprit sa route, la bourse vide, à la fois surpris et content, car un\n",
    "rien l'étonnait et c'était un heureux caractère.\n",
    "\n",
    "Et ça continue comme ça, à la fin de la n-ième verste, un ermite lui demande n roubles. Si Michel Strogonoff les\n",
    "possède, il les lui donne, sinon c'est l'ermite qui lui donne n roubles.\n",
    "\n",
    "On note, pour tout entier n , Sn le nombre de roubles que Michel Strogonoff a en sa possession après avoir parcouru\n",
    "n verstes et rencontré le n-ième ermite."
   ]
  },
  {
   "cell_type": "markdown",
   "id": "10e03147",
   "metadata": {},
   "source": [
    "## Ecrire un algorithme qui demande en entrée un entier n et affiche en sortie Sn."
   ]
  },
  {
   "cell_type": "code",
   "execution_count": null,
   "id": "534e89b0",
   "metadata": {},
   "outputs": [],
   "source": [
    "s=0\n",
    "n=int(input(\"n=\"))\n",
    "#à compléter\n",
    "print(s)"
   ]
  },
  {
   "cell_type": "markdown",
   "id": "f65943e9",
   "metadata": {},
   "source": [
    "Quelle somme Michel Strogonoff a-t-il en sa possession après avoir parcouru 2022 verstes ?"
   ]
  },
  {
   "cell_type": "markdown",
   "id": "146b1ce1",
   "metadata": {},
   "source": [
    "## Ecrire un algorithme qui affiche après quelle distance parcourue Michel Strogonoff aura exactement 2022 roubles en sa possession."
   ]
  },
  {
   "cell_type": "code",
   "execution_count": null,
   "id": "304190f0",
   "metadata": {
    "scrolled": true
   },
   "outputs": [],
   "source": [
    "s=0\n",
    "i=0\n",
    "while s!=0:\n",
    "    #à compléter\n",
    "print(i, \" verstes parcourus pour avoir 2022 roubles\")"
   ]
  },
  {
   "cell_type": "markdown",
   "id": "f6239020",
   "metadata": {},
   "source": [
    "## Modifier l'algorithme pour qu'il affiche en plus combien d'ermites Michel Strogonoff a pu payer."
   ]
  },
  {
   "cell_type": "code",
   "execution_count": null,
   "id": "7aa75c05",
   "metadata": {},
   "outputs": [],
   "source": [
    "#à compléter"
   ]
  },
  {
   "cell_type": "markdown",
   "id": "329eb699",
   "metadata": {},
   "source": [
    "## Modifier l'algorithme pour qu'il affiche en plus quelle distance Michel Strogonoff a parcouru la bourse vide."
   ]
  },
  {
   "cell_type": "code",
   "execution_count": null,
   "id": "13c0ef59",
   "metadata": {},
   "outputs": [],
   "source": [
    "#à compléter"
   ]
  },
  {
   "cell_type": "code",
   "execution_count": null,
   "id": "2294e189",
   "metadata": {},
   "outputs": [],
   "source": [
    "import session_info\n",
    "session_info.show()"
   ]
  }
 ],
 "metadata": {
  "kernelspec": {
   "display_name": "Python 3 (ipykernel)",
   "language": "python",
   "name": "python3"
  },
  "language_info": {
   "codemirror_mode": {
    "name": "ipython",
    "version": 3
   },
   "file_extension": ".py",
   "mimetype": "text/x-python",
   "name": "python",
   "nbconvert_exporter": "python",
   "pygments_lexer": "ipython3",
   "version": "3.9.6"
  }
 },
 "nbformat": 4,
 "nbformat_minor": 5
}
